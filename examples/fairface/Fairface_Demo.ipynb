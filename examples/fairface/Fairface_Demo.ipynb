{
 "cells": [
  {
   "cell_type": "markdown",
   "metadata": {},
   "source": [
    "# FairTorch Demo Using the FairFace Dataset\n",
    "In this demo, we predict the gender of people from their pictures, and demonstrate usage of FairTorch tools for evaluating and ensuring fairness across sensitive attributes, in this case race."
   ]
  },
  {
   "cell_type": "markdown",
   "metadata": {},
   "source": [
    "<pre>\n",
    "File tree for this demo:\n",
    "|--Fairface_Demo.ipynb (this notebook)\n",
    "  |--fairface_dataset\n",
    "    |--fairface_label_train.csv\n",
    "    |--fairface_label_val.csv\n",
    "    |--train\n",
    "      |--a ton of training images\n",
    "    |--val\n",
    "      |--a ton of testing images\n",
    "</pre>"
   ]
  },
  {
   "cell_type": "markdown",
   "metadata": {},
   "source": [
    "### Import Dataset"
   ]
  },
  {
   "cell_type": "code",
   "execution_count": 1,
   "metadata": {},
   "outputs": [],
   "source": [
    "%matplotlib inline\n",
    "import matplotlib.pyplot as plt\n",
    "import numpy as np\n",
    "\n",
    "import torch\n",
    "import torch.nn as nn\n",
    "import torch.nn.functional as F\n",
    "import torch.optim as optim\n",
    "\n",
    "from PIL import Image"
   ]
  },
  {
   "cell_type": "code",
   "execution_count": 2,
   "metadata": {},
   "outputs": [
    {
     "ename": "FileNotFoundError",
     "evalue": "[Errno 2] No such file or directory: './fairface_dataset/fairface_label_train.csv'",
     "output_type": "error",
     "traceback": [
      "\u001b[1;31m---------------------------------------------------------------------------\u001b[0m",
      "\u001b[1;31mFileNotFoundError\u001b[0m                         Traceback (most recent call last)",
      "\u001b[1;32m<ipython-input-2-d229d65e8c45>\u001b[0m in \u001b[0;36m<module>\u001b[1;34m\u001b[0m\n\u001b[0;32m     65\u001b[0m         \u001b[1;32mreturn\u001b[0m \u001b[0mtorch\u001b[0m\u001b[1;33m.\u001b[0m\u001b[0mfrom_numpy\u001b[0m\u001b[1;33m(\u001b[0m\u001b[0mX\u001b[0m\u001b[1;33m)\u001b[0m\u001b[1;33m.\u001b[0m\u001b[0mpermute\u001b[0m\u001b[1;33m(\u001b[0m\u001b[1;36m0\u001b[0m\u001b[1;33m,\u001b[0m \u001b[1;36m3\u001b[0m\u001b[1;33m,\u001b[0m \u001b[1;36m1\u001b[0m\u001b[1;33m,\u001b[0m \u001b[1;36m2\u001b[0m\u001b[1;33m)\u001b[0m\u001b[1;33m,\u001b[0m \u001b[0mtorch\u001b[0m\u001b[1;33m.\u001b[0m\u001b[0mfrom_numpy\u001b[0m\u001b[1;33m(\u001b[0m\u001b[0my\u001b[0m\u001b[1;33m)\u001b[0m\u001b[1;33m,\u001b[0m \u001b[0mg\u001b[0m\u001b[1;33m\u001b[0m\u001b[1;33m\u001b[0m\u001b[0m\n\u001b[0;32m     66\u001b[0m \u001b[1;33m\u001b[0m\u001b[0m\n\u001b[1;32m---> 67\u001b[1;33m \u001b[0mdata\u001b[0m \u001b[1;33m=\u001b[0m \u001b[0mFFDataset\u001b[0m\u001b[1;33m(\u001b[0m\u001b[0mtrain\u001b[0m\u001b[1;33m=\u001b[0m\u001b[1;32mTrue\u001b[0m\u001b[1;33m)\u001b[0m\u001b[1;33m\u001b[0m\u001b[1;33m\u001b[0m\u001b[0m\n\u001b[0m\u001b[0;32m     68\u001b[0m \u001b[1;33m\u001b[0m\u001b[0m\n\u001b[0;32m     69\u001b[0m \u001b[0mX\u001b[0m\u001b[1;33m,\u001b[0m \u001b[0my\u001b[0m\u001b[1;33m,\u001b[0m \u001b[0mg\u001b[0m \u001b[1;33m=\u001b[0m \u001b[0mdata\u001b[0m\u001b[1;33m.\u001b[0m\u001b[0mget_data\u001b[0m\u001b[1;33m(\u001b[0m\u001b[1;36m1\u001b[0m\u001b[1;33m)\u001b[0m\u001b[1;33m\u001b[0m\u001b[1;33m\u001b[0m\u001b[0m\n",
      "\u001b[1;32m<ipython-input-2-d229d65e8c45>\u001b[0m in \u001b[0;36m__init__\u001b[1;34m(self, train)\u001b[0m\n\u001b[0;32m      8\u001b[0m         \u001b[1;32melse\u001b[0m\u001b[1;33m:\u001b[0m\u001b[1;33m\u001b[0m\u001b[1;33m\u001b[0m\u001b[0m\n\u001b[0;32m      9\u001b[0m             \u001b[0mfilename\u001b[0m \u001b[1;33m=\u001b[0m \u001b[1;34m\"./fairface_dataset/fairface_label_val.csv\"\u001b[0m\u001b[1;33m\u001b[0m\u001b[1;33m\u001b[0m\u001b[0m\n\u001b[1;32m---> 10\u001b[1;33m         \u001b[1;32mwith\u001b[0m \u001b[0mopen\u001b[0m\u001b[1;33m(\u001b[0m\u001b[0mfilename\u001b[0m\u001b[1;33m)\u001b[0m \u001b[1;32mas\u001b[0m \u001b[0mf\u001b[0m\u001b[1;33m:\u001b[0m\u001b[1;33m\u001b[0m\u001b[1;33m\u001b[0m\u001b[0m\n\u001b[0m\u001b[0;32m     11\u001b[0m             \u001b[0mself\u001b[0m\u001b[1;33m.\u001b[0m\u001b[0mheader_length\u001b[0m \u001b[1;33m=\u001b[0m \u001b[0mlen\u001b[0m\u001b[1;33m(\u001b[0m\u001b[0mnext\u001b[0m\u001b[1;33m(\u001b[0m\u001b[0mf\u001b[0m\u001b[1;33m)\u001b[0m\u001b[1;33m)\u001b[0m\u001b[1;33m\u001b[0m\u001b[1;33m\u001b[0m\u001b[0m\n\u001b[0;32m     12\u001b[0m \u001b[1;33m\u001b[0m\u001b[0m\n",
      "\u001b[1;31mFileNotFoundError\u001b[0m: [Errno 2] No such file or directory: './fairface_dataset/fairface_label_train.csv'"
     ]
    }
   ],
   "source": [
    "class FFDataset:\n",
    "    def __init__(self, train):\n",
    "        self.train = train\n",
    "        \n",
    "        # skip header\n",
    "        if self.train:\n",
    "            filename = \"./fairface_dataset/fairface_label_train.csv\"\n",
    "        else:\n",
    "            filename = \"./fairface_dataset/fairface_label_val.csv\"\n",
    "        with open(filename) as f:\n",
    "            self.header_length = len(next(f))\n",
    "        \n",
    "        # set first line of data\n",
    "        self.current_char = self.header_length\n",
    "        \n",
    "        self.n_epochs = 0\n",
    "    \n",
    "    def reset(self, f):\n",
    "        \"\"\"resets the file to the first line of data\"\"\"\n",
    "        f.seek(self.header_length)\n",
    "        self.current_char = self.header_length\n",
    "        self.n_epochs += 1\n",
    "    \n",
    "    def get_n_epochs(self):\n",
    "        return self.n_epochs\n",
    "    \n",
    "    def get_n_lines(self):\n",
    "        return 86744 if self.train else 10954\n",
    "    \n",
    "    def get_data(self, n):\n",
    "        \"\"\"Returns the next n lines of data, resetting current_char if necessary\"\"\"\n",
    "        if self.train:\n",
    "            filename = \"./fairface_dataset/fairface_label_train.csv\"\n",
    "        else:\n",
    "            filename = \"./fairface_dataset/fairface_label_val.csv\"\n",
    "        \n",
    "        X = []\n",
    "        y = []\n",
    "        g = []\n",
    "        \n",
    "        with open(filename) as f:\n",
    "            f.seek(self.current_char)\n",
    "            i = 0\n",
    "            while i < n:\n",
    "                try:\n",
    "                    line = next(f)\n",
    "                except StopIteration:\n",
    "                    self.reset(f)\n",
    "                    line = next(f)\n",
    "                \n",
    "                img_path, age, gender, race, _ = line.split(',')\n",
    "                \n",
    "                img = Image.open(f\"./fairface_dataset/{img_path}\")\n",
    "                img = np.array(img)\n",
    "                img = (img - np.mean(img)) / np.std(img)\n",
    "                \n",
    "                X.append(img)\n",
    "                y.append(0) if gender == \"Male\" else y.append(1)\n",
    "                g.append(race)\n",
    "                \n",
    "                self.current_char += len(line)\n",
    "                i += 1\n",
    "\n",
    "        X, y, g = np.array(X, dtype=np.float32), np.array(y, dtype=np.long), np.array(g)\n",
    "        return torch.from_numpy(X).permute(0, 3, 1, 2), torch.from_numpy(y), g\n",
    "\n",
    "data = FFDataset(train=True)\n",
    "\n",
    "X, y, g = data.get_data(1)\n",
    "\n",
    "print(X.shape)\n",
    "print(y[0], g[0])\n",
    "plt.imshow((X[0].permute(1, 2, 0) - torch.min(X[0])) / (torch.max(X[0]) - torch.min(X[0])))\n",
    "plt.show()\n",
    "\n",
    "data = FFDataset(train=False)\n",
    "\n",
    "X, y, g = data.get_data(100)\n",
    "print(torch.sum(y))"
   ]
  },
  {
   "cell_type": "markdown",
   "metadata": {},
   "source": [
    "### Define Model"
   ]
  },
  {
   "cell_type": "code",
   "execution_count": 7,
   "metadata": {},
   "outputs": [],
   "source": [
    "class Net(nn.Module):\n",
    "    def __init__(self):\n",
    "        super(Net, self).__init__()\n",
    "        self.conv1 = nn.Conv2d(3, 6, 7)\n",
    "        self.pool = nn.MaxPool2d(2, 2)\n",
    "        self.conv2 = nn.Conv2d(6, 5, 7)\n",
    "        self.fc1 = nn.Linear(5 * 51 * 51, 120)\n",
    "        self.fc2 = nn.Linear(120, 84)\n",
    "        self.fc3 = nn.Linear(84, 2)\n",
    "\n",
    "    def forward(self, x):\n",
    "        x = self.pool(F.relu(self.conv1(x)))\n",
    "        x = self.pool(F.relu(self.conv2(x)))\n",
    "        x = x.view(-1, 5 * 51 * 51)\n",
    "        x = F.relu(self.fc1(x))\n",
    "        x = F.relu(self.fc2(x))\n",
    "        x = self.fc3(x)\n",
    "        return x"
   ]
  },
  {
   "cell_type": "markdown",
   "metadata": {},
   "source": [
    "### Train Model"
   ]
  },
  {
   "cell_type": "code",
   "execution_count": 8,
   "metadata": {
    "scrolled": true
   },
   "outputs": [
    {
     "name": "stdout",
     "output_type": "stream",
     "text": [
      "========================================BEGIN TRAINING========================================\n",
      "|  [Epoch: 1, Batch: 10/868]\tTrain loss: 0.696\t|  Test accuracy: 0.550\t|\n",
      "|  [Epoch: 1, Batch: 20/868]\tTrain loss: 0.691\t|  Test accuracy: 0.550\t|\n",
      "|  [Epoch: 1, Batch: 30/868]\tTrain loss: 0.680\t|  Test accuracy: 0.600\t|\n",
      "|  [Epoch: 1, Batch: 40/868]\tTrain loss: 0.673\t|  Test accuracy: 0.640\t|\n",
      "|  [Epoch: 1, Batch: 50/868]\tTrain loss: 0.669\t|  Test accuracy: 0.630\t|\n",
      "|  [Epoch: 1, Batch: 60/868]\tTrain loss: 0.662\t|  Test accuracy: 0.630\t|\n",
      "|  [Epoch: 1, Batch: 70/868]\tTrain loss: 0.655\t|  Test accuracy: 0.620\t|\n",
      "|  [Epoch: 1, Batch: 80/868]\tTrain loss: 0.647\t|  Test accuracy: 0.660\t|\n",
      "|  [Epoch: 1, Batch: 90/868]\tTrain loss: 0.640\t|  Test accuracy: 0.660\t|\n",
      "|  [Epoch: 1, Batch: 100/868]\tTrain loss: 0.633\t|  Test accuracy: 0.670\t|\n",
      "|  [Epoch: 1, Batch: 110/868]\tTrain loss: 0.629\t|  Test accuracy: 0.710\t|\n",
      "|  [Epoch: 1, Batch: 120/868]\tTrain loss: 0.625\t|  Test accuracy: 0.690\t|\n",
      "|  [Epoch: 1, Batch: 130/868]\tTrain loss: 0.622\t|  Test accuracy: 0.710\t|\n",
      "|  [Epoch: 1, Batch: 140/868]\tTrain loss: 0.618\t|  Test accuracy: 0.750\t|\n",
      "|  [Epoch: 1, Batch: 150/868]\tTrain loss: 0.611\t|  Test accuracy: 0.710\t|\n",
      "|  [Epoch: 1, Batch: 160/868]\tTrain loss: 0.609\t|  Test accuracy: 0.680\t|\n",
      "|  [Epoch: 1, Batch: 170/868]\tTrain loss: 0.610\t|  Test accuracy: 0.720\t|\n",
      "|  [Epoch: 1, Batch: 180/868]\tTrain loss: 0.606\t|  Test accuracy: 0.720\t|\n",
      "|  [Epoch: 1, Batch: 190/868]\tTrain loss: 0.604\t|  Test accuracy: 0.710\t|\n",
      "|  [Epoch: 1, Batch: 200/868]\tTrain loss: 0.600\t|  Test accuracy: 0.740\t|\n",
      "|  [Epoch: 1, Batch: 210/868]\tTrain loss: 0.599\t|  Test accuracy: 0.720\t|\n",
      "|  [Epoch: 1, Batch: 220/868]\tTrain loss: 0.596\t|  Test accuracy: 0.710\t|\n",
      "|  [Epoch: 1, Batch: 230/868]\tTrain loss: 0.593\t|  Test accuracy: 0.720\t|\n",
      "|  [Epoch: 1, Batch: 240/868]\tTrain loss: 0.590\t|  Test accuracy: 0.700\t|\n",
      "|  [Epoch: 1, Batch: 250/868]\tTrain loss: 0.588\t|  Test accuracy: 0.670\t|\n",
      "|  [Epoch: 1, Batch: 260/868]\tTrain loss: 0.586\t|  Test accuracy: 0.680\t|\n",
      "|  [Epoch: 1, Batch: 270/868]\tTrain loss: 0.584\t|  Test accuracy: 0.700\t|\n",
      "|  [Epoch: 1, Batch: 280/868]\tTrain loss: 0.581\t|  Test accuracy: 0.720\t|\n",
      "|  [Epoch: 1, Batch: 290/868]\tTrain loss: 0.579\t|  Test accuracy: 0.720\t|\n",
      "|  [Epoch: 1, Batch: 300/868]\tTrain loss: 0.577\t|  Test accuracy: 0.680\t|\n",
      "|  [Epoch: 1, Batch: 310/868]\tTrain loss: 0.575\t|  Test accuracy: 0.700\t|\n",
      "|  [Epoch: 1, Batch: 320/868]\tTrain loss: 0.573\t|  Test accuracy: 0.750\t|\n",
      "|  [Epoch: 1, Batch: 330/868]\tTrain loss: 0.571\t|  Test accuracy: 0.680\t|\n",
      "|  [Epoch: 1, Batch: 340/868]\tTrain loss: 0.570\t|  Test accuracy: 0.720\t|\n",
      "|  [Epoch: 1, Batch: 350/868]\tTrain loss: 0.568\t|  Test accuracy: 0.700\t|\n",
      "|  [Epoch: 1, Batch: 360/868]\tTrain loss: 0.566\t|  Test accuracy: 0.700\t|\n",
      "|  [Epoch: 1, Batch: 370/868]\tTrain loss: 0.565\t|  Test accuracy: 0.680\t|\n",
      "|  [Epoch: 1, Batch: 380/868]\tTrain loss: 0.563\t|  Test accuracy: 0.730\t|\n",
      "|  [Epoch: 1, Batch: 390/868]\tTrain loss: 0.562\t|  Test accuracy: 0.760\t|\n",
      "|  [Epoch: 1, Batch: 400/868]\tTrain loss: 0.561\t|  Test accuracy: 0.740\t|\n",
      "|  [Epoch: 1, Batch: 410/868]\tTrain loss: 0.560\t|  Test accuracy: 0.710\t|\n",
      "|  [Epoch: 1, Batch: 420/868]\tTrain loss: 0.558\t|  Test accuracy: 0.760\t|\n",
      "|  [Epoch: 1, Batch: 430/868]\tTrain loss: 0.557\t|  Test accuracy: 0.750\t|\n",
      "|  [Epoch: 1, Batch: 440/868]\tTrain loss: 0.556\t|  Test accuracy: 0.750\t|\n",
      "|  [Epoch: 1, Batch: 450/868]\tTrain loss: 0.553\t|  Test accuracy: 0.760\t|\n",
      "|  [Epoch: 1, Batch: 460/868]\tTrain loss: 0.552\t|  Test accuracy: 0.750\t|\n",
      "|  [Epoch: 1, Batch: 470/868]\tTrain loss: 0.551\t|  Test accuracy: 0.740\t|\n",
      "|  [Epoch: 1, Batch: 480/868]\tTrain loss: 0.550\t|  Test accuracy: 0.760\t|\n",
      "|  [Epoch: 1, Batch: 490/868]\tTrain loss: 0.549\t|  Test accuracy: 0.780\t|\n",
      "|  [Epoch: 1, Batch: 500/868]\tTrain loss: 0.548\t|  Test accuracy: 0.740\t|\n",
      "|  [Epoch: 1, Batch: 510/868]\tTrain loss: 0.547\t|  Test accuracy: 0.790\t|\n",
      "|  [Epoch: 1, Batch: 520/868]\tTrain loss: 0.546\t|  Test accuracy: 0.750\t|\n",
      "|  [Epoch: 1, Batch: 530/868]\tTrain loss: 0.545\t|  Test accuracy: 0.740\t|\n",
      "|  [Epoch: 1, Batch: 540/868]\tTrain loss: 0.543\t|  Test accuracy: 0.790\t|\n",
      "|  [Epoch: 1, Batch: 550/868]\tTrain loss: 0.542\t|  Test accuracy: 0.760\t|\n",
      "|  [Epoch: 1, Batch: 560/868]\tTrain loss: 0.541\t|  Test accuracy: 0.730\t|\n",
      "|  [Epoch: 1, Batch: 570/868]\tTrain loss: 0.540\t|  Test accuracy: 0.750\t|\n",
      "|  [Epoch: 1, Batch: 580/868]\tTrain loss: 0.538\t|  Test accuracy: 0.770\t|\n",
      "|  [Epoch: 1, Batch: 590/868]\tTrain loss: 0.537\t|  Test accuracy: 0.770\t|\n",
      "|  [Epoch: 1, Batch: 600/868]\tTrain loss: 0.535\t|  Test accuracy: 0.770\t|\n",
      "|  [Epoch: 1, Batch: 610/868]\tTrain loss: 0.534\t|  Test accuracy: 0.730\t|\n",
      "|  [Epoch: 1, Batch: 620/868]\tTrain loss: 0.532\t|  Test accuracy: 0.750\t|\n",
      "|  [Epoch: 1, Batch: 630/868]\tTrain loss: 0.531\t|  Test accuracy: 0.740\t|\n",
      "|  [Epoch: 1, Batch: 640/868]\tTrain loss: 0.530\t|  Test accuracy: 0.740\t|\n",
      "|  [Epoch: 1, Batch: 650/868]\tTrain loss: 0.529\t|  Test accuracy: 0.790\t|\n",
      "|  [Epoch: 1, Batch: 660/868]\tTrain loss: 0.528\t|  Test accuracy: 0.750\t|\n",
      "|  [Epoch: 1, Batch: 670/868]\tTrain loss: 0.527\t|  Test accuracy: 0.760\t|\n",
      "|  [Epoch: 1, Batch: 680/868]\tTrain loss: 0.526\t|  Test accuracy: 0.740\t|\n",
      "|  [Epoch: 1, Batch: 690/868]\tTrain loss: 0.526\t|  Test accuracy: 0.750\t|\n",
      "|  [Epoch: 1, Batch: 700/868]\tTrain loss: 0.525\t|  Test accuracy: 0.770\t|\n",
      "|  [Epoch: 1, Batch: 710/868]\tTrain loss: 0.524\t|  Test accuracy: 0.770\t|\n",
      "|  [Epoch: 1, Batch: 720/868]\tTrain loss: 0.523\t|  Test accuracy: 0.740\t|\n",
      "|  [Epoch: 1, Batch: 730/868]\tTrain loss: 0.522\t|  Test accuracy: 0.740\t|\n",
      "|  [Epoch: 1, Batch: 740/868]\tTrain loss: 0.521\t|  Test accuracy: 0.750\t|\n",
      "|  [Epoch: 1, Batch: 750/868]\tTrain loss: 0.521\t|  Test accuracy: 0.760\t|\n",
      "|  [Epoch: 1, Batch: 760/868]\tTrain loss: 0.519\t|  Test accuracy: 0.760\t|\n",
      "|  [Epoch: 1, Batch: 770/868]\tTrain loss: 0.519\t|  Test accuracy: 0.790\t|\n",
      "|  [Epoch: 1, Batch: 780/868]\tTrain loss: 0.518\t|  Test accuracy: 0.770\t|\n",
      "|  [Epoch: 1, Batch: 790/868]\tTrain loss: 0.517\t|  Test accuracy: 0.780\t|\n",
      "|  [Epoch: 1, Batch: 800/868]\tTrain loss: 0.516\t|  Test accuracy: 0.750\t|\n",
      "|  [Epoch: 1, Batch: 810/868]\tTrain loss: 0.515\t|  Test accuracy: 0.760\t|\n",
      "|  [Epoch: 1, Batch: 820/868]\tTrain loss: 0.515\t|  Test accuracy: 0.800\t|\n",
      "|  [Epoch: 1, Batch: 830/868]\tTrain loss: 0.514\t|  Test accuracy: 0.810\t|\n",
      "|  [Epoch: 1, Batch: 840/868]\tTrain loss: 0.513\t|  Test accuracy: 0.810\t|\n",
      "|  [Epoch: 1, Batch: 850/868]\tTrain loss: 0.512\t|  Test accuracy: 0.830\t|\n",
      "|  [Epoch: 1, Batch: 860/868]\tTrain loss: 0.511\t|  Test accuracy: 0.800\t|\n",
      "=========================================END TRAINING=========================================\n"
     ]
    },
    {
     "data": {
      "image/png": "[encoded data removed]",
      "text/plain": [
       "<Figure size 432x288 with 1 Axes>"
      ]
     },
     "metadata": {
      "needs_background": "light"
     },
     "output_type": "display_data"
    }
   ],
   "source": [
    "# set up validation data\n",
    "test_data = FFDataset(train=False)\n",
    "X_test, y_test, g_test = test_data.get_data(100)\n",
    "\n",
    "# set up data and model then train\n",
    "data = FFDataset(train=True)\n",
    "model = Net()\n",
    "\n",
    "criterion = nn.CrossEntropyLoss()\n",
    "optimizer = optim.Adamax(model.parameters(), lr=0.002, betas=(0.9, 0.999), eps=1e-08, weight_decay=0)\n",
    "\n",
    "epochs = 1\n",
    "\n",
    "batch_size = 100\n",
    "train_losses, test_losses = [], []\n",
    "\n",
    "print_batch_freq = 10\n",
    "batches_per_epoch = int(data.get_n_lines() / batch_size) + 1\n",
    "\n",
    "print(40 * \"=\" + \"BEGIN TRAINING\" + 40 * \"=\")\n",
    "\n",
    "running_loss, last_epoch, cur_batch = (0, 0, 0)\n",
    "last_epoch = 0\n",
    "while data.get_n_epochs() < epochs:\n",
    "    if data.get_n_epochs() > last_epoch:\n",
    "        cur_batch = 1\n",
    "        running_loss = 0\n",
    "    else:\n",
    "        cur_batch += 1\n",
    "    \n",
    "    X, y, g = data.get_data(batch_size)\n",
    "\n",
    "    optimizer.zero_grad()\n",
    "\n",
    "    y_ = model(X)\n",
    "    loss = criterion(y_, y)\n",
    "    loss.backward()\n",
    "    optimizer.step()\n",
    "    \n",
    "    train_losses.append(loss.item())\n",
    "    running_loss += loss.item()\n",
    "    \n",
    "    if len(train_losses) % print_batch_freq == print_batch_freq - 1:\n",
    "        model.eval()\n",
    "        accuracy = torch.mean((torch.argmax(model(X_test), axis=1) == y_test) * 1.)\n",
    "        \n",
    "        print(f\"|  [Epoch: {data.get_n_epochs() + 1}, Batch: {cur_batch + 1}/{batches_per_epoch}]\"\n",
    "              f\"\\tTrain loss: {running_loss/cur_batch:.3f}\\t|\"\n",
    "              f\"  Test accuracy: {accuracy:.3f}\\t|\")\n",
    "        model.train()\n",
    "        \n",
    "print(41 * \"=\" + \"END TRAINING\" + 41 * \"=\")\n",
    "\n",
    "plt.plot(train_losses, label='Training loss')\n",
    "plt.show()"
   ]
  },
  {
   "cell_type": "code",
   "execution_count": 27,
   "metadata": {
    "scrolled": true
   },
   "outputs": [
    {
     "name": "stdout",
     "output_type": "stream",
     "text": [
      "0.7735999822616577\n"
     ]
    }
   ],
   "source": [
    "total, correct = (0, 0)\n",
    "while test_data.get_n_epochs() < 1:\n",
    "    X_test, y_test, g_test = test_data.get_data(100)\n",
    "    total += 100\n",
    "    correct += torch.sum((torch.argmax(model(X_test), axis=1) == y_test) * 1.)\n",
    "print((correct / total).item())"
   ]
  },
  {
   "cell_type": "markdown",
   "metadata": {},
   "source": [
    "# FairTorch Metrics Examples"
   ]
  },
  {
   "cell_type": "code",
   "execution_count": 3,
   "metadata": {},
   "outputs": [],
   "source": [
    "import sys\n",
    "sys.path.append(\"../../api\")\n",
    "\n",
    "from evaluation import metrics"
   ]
  },
  {
   "cell_type": "code",
   "execution_count": 29,
   "metadata": {},
   "outputs": [
    {
     "name": "stdout",
     "output_type": "stream",
     "text": [
      "True Positives: {'Black': 24, 'East Asian': 22, 'Indian': 21, 'Latino_Hispanic': 36, 'Middle Eastern': 21, 'Southeast Asian': 19, 'White': 48}\n",
      "\n",
      "False Positive Rate: {'Black': 0.21052631578947367, 'East Asian': 0.005190311418685122, 'Indian': 7, 'Latino_Hispanic': 0.006055363321799308, 'Middle Eastern': 0.13953488372093023, 'Southeast Asian': 7, 'White': 0.3018867924528302}\n",
      "\n",
      "Demographic Parity: {'Black': 0.6352941176470588, 'East Asian': 0.5882352941176471, 'Indian': 0.49411764705882355, 'Latino_Hispanic': 0.7411764705882353, 'Middle Eastern': 0.6823529411764706, 'Southeast Asian': 0.49411764705882355, 'White': 1.0}\n"
     ]
    }
   ],
   "source": [
    "X, y, group = test_data.get_data(500)\n",
    "y_ = torch.argmax(model(X), axis=-1)\n",
    "\n",
    "print(\"True Positives:\", metrics.true_pos(y_.detach().view(-1), y.detach().view(-1), group))\n",
    "print(\"\\nFalse Positive Rate:\", metrics.false_pos_rate(y_.detach().view(-1), y.detach().view(-1), group))\n",
    "print(\"\\nDemographic Parity:\", metrics.Demographic_Parity(y_.detach().view(-1), y.detach().view(-1), group, \"White\"))"
   ]
  },
  {
   "cell_type": "code",
   "execution_count": null,
   "metadata": {},
   "outputs": [],
   "source": []
  }
 ],
 "metadata": {
  "kernelspec": {
   "display_name": "Python 3",
   "language": "python",
   "name": "python3"
  },
  "language_info": {
   "codemirror_mode": {
    "name": "ipython",
    "version": 3
   },
   "file_extension": ".py",
   "mimetype": "text/x-python",
   "name": "python",
   "nbconvert_exporter": "python",
   "pygments_lexer": "ipython3",
   "version": "3.7.3"
  }
 },
 "nbformat": 4,
 "nbformat_minor": 4
}
