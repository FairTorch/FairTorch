{
 "cells": [
  {
   "cell_type": "markdown",
   "metadata": {},
   "source": [
    "# FairTorch Demo Using the FairFace Dataset\n",
    "In this demo, we predict the gender of people from their pictures, and demonstrate usage of FairTorch tools for evaluating and ensuring fairness across sensitive attributes, in this case race."
   ]
  },
  {
   "cell_type": "markdown",
   "metadata": {},
   "source": [
    "<pre>\n",
    "File tree for this demo:\n",
    "|--Fairface_Demo.ipynb (this notebook)\n",
    "  |--fairface_dataset\n",
    "    |--fairface_label_train.csv\n",
    "    |--fairface_label_val.csv\n",
    "    |--train\n",
    "      |--a ton of training images\n",
    "    |--val\n",
    "      |--a ton of testing images\n",
    "</pre>"
   ]
  },
  {
   "cell_type": "markdown",
   "metadata": {},
   "source": [
    "### Import Dataset"
   ]
  },
  {
   "cell_type": "code",
   "execution_count": null,
   "metadata": {},
   "outputs": [
    {
     "ename": "ModuleNotFoundError",
     "evalue": "No module named 'FairTorch.fairtorch'",
     "output_type": "error",
     "traceback": [
      "\u001b[0;31m---------------------------------------------------------------------------\u001b[0m",
      "\u001b[0;31mModuleNotFoundError\u001b[0m                       Traceback (most recent call last)",
      "\u001b[0;32m<ipython-input-2-91c74d1419a1>\u001b[0m in \u001b[0;36m<module>\u001b[0;34m\u001b[0m\n\u001b[1;32m     10\u001b[0m \u001b[0;32mfrom\u001b[0m \u001b[0mPIL\u001b[0m \u001b[0;32mimport\u001b[0m \u001b[0mImage\u001b[0m\u001b[0;34m\u001b[0m\u001b[0;34m\u001b[0m\u001b[0m\n\u001b[1;32m     11\u001b[0m \u001b[0;34m\u001b[0m\u001b[0m\n\u001b[0;32m---> 12\u001b[0;31m \u001b[0;32mfrom\u001b[0m \u001b[0mFairTorch\u001b[0m\u001b[0;34m.\u001b[0m\u001b[0mfairtorch\u001b[0m\u001b[0;34m.\u001b[0m\u001b[0mevaluation\u001b[0m \u001b[0;32mimport\u001b[0m \u001b[0mmetrics\u001b[0m\u001b[0;34m\u001b[0m\u001b[0;34m\u001b[0m\u001b[0m\n\u001b[0m\u001b[1;32m     13\u001b[0m \u001b[0;32mfrom\u001b[0m \u001b[0mFairTorch\u001b[0m\u001b[0;34m.\u001b[0m\u001b[0mfairtorch\u001b[0m\u001b[0;34m.\u001b[0m\u001b[0mtraining\u001b[0m\u001b[0;34m.\u001b[0m\u001b[0mmonitor\u001b[0m \u001b[0;32mimport\u001b[0m \u001b[0mMonitor\u001b[0m\u001b[0;34m\u001b[0m\u001b[0;34m\u001b[0m\u001b[0m\n",
      "\u001b[0;31mModuleNotFoundError\u001b[0m: No module named 'FairTorch.fairtorch'"
     ]
    }
   ],
   "source": [
    "%matplotlib inline\n",
    "%pylab inline\n",
    "import matplotlib.pyplot as plt\n",
    "import numpy as np\n",
    "\n",
    "import torch\n",
    "import torch.nn as nn\n",
    "import torch.nn.functional as F\n",
    "import torch.optim as optim\n",
    "\n",
    "from PIL import Image\n",
    "\n",
    "from FairTorch.fairtorch.evaluation import metrics\n",
    "from FairTorch.fairtorch.training.monitor import Monitor"
   ]
  },
  {
   "cell_type": "code",
   "execution_count": null,
   "metadata": {},
   "outputs": [],
   "source": [
    "class FFDataset:\n",
    "    def __init__(self, train):\n",
    "        self.train = train\n",
    "        \n",
    "        # skip header\n",
    "        if self.train:\n",
    "            filename = \"./fairface_dataset/fairface_label_train.csv\"\n",
    "        else:\n",
    "            filename = \"./fairface_dataset/fairface_label_val.csv\"\n",
    "        with open(filename) as f:\n",
    "            self.header_length = len(next(f))\n",
    "        \n",
    "        # set first line of data\n",
    "        self.current_char = self.header_length\n",
    "        \n",
    "        self.n_epochs = 0\n",
    "    \n",
    "    def reset(self, f):\n",
    "        \"\"\"resets the file to the first line of data\"\"\"\n",
    "        f.seek(self.header_length)\n",
    "        self.current_char = self.header_length\n",
    "        self.n_epochs += 1\n",
    "    \n",
    "    def get_n_epochs(self):\n",
    "        return self.n_epochs\n",
    "    \n",
    "    def get_n_lines(self):\n",
    "        return 86744 if self.train else 10954\n",
    "    \n",
    "    def get_data(self, n):\n",
    "        \"\"\"Returns the next n lines of data, resetting current_char if necessary\"\"\"\n",
    "        if self.train:\n",
    "            filename = \"./fairface_dataset/fairface_label_train.csv\"\n",
    "        else:\n",
    "            filename = \"./fairface_dataset/fairface_label_val.csv\"\n",
    "        \n",
    "        X = []\n",
    "        y = []\n",
    "        g = []\n",
    "        \n",
    "        with open(filename) as f:\n",
    "            f.seek(self.current_char)\n",
    "            i = 0\n",
    "            while i < n:\n",
    "                try:\n",
    "                    line = next(f)\n",
    "                except StopIteration:\n",
    "                    self.reset(f)\n",
    "                    line = next(f)\n",
    "                \n",
    "                img_path, age, gender, race, _ = line.split(',')\n",
    "                \n",
    "                img = Image.open(f\"./fairface_dataset/{img_path}\")\n",
    "                img = np.array(img)\n",
    "                img = (img - np.mean(img)) / np.std(img)\n",
    "                \n",
    "                X.append(img)\n",
    "                y.append(0) if gender == \"Male\" else y.append(1)\n",
    "                g.append(race)\n",
    "                \n",
    "                self.current_char += len(line)\n",
    "                i += 1\n",
    "\n",
    "        X, y, g = np.array(X, dtype=np.float32), np.array(y, dtype=np.long), np.array(g)\n",
    "        return torch.from_numpy(X).permute(0, 3, 1, 2), torch.from_numpy(y), g\n",
    "\n",
    "data = FFDataset(train=True)\n",
    "\n",
    "X, y, g = data.get_data(1)\n",
    "\n",
    "print(X.shape)\n",
    "print(y[0], g[0])\n",
    "plt.imshow((X[0].permute(1, 2, 0) - torch.min(X[0])) / (torch.max(X[0]) - torch.min(X[0])))\n",
    "plt.show()\n",
    "\n",
    "data = FFDataset(train=False)\n",
    "\n",
    "X, y, g = data.get_data(100)\n",
    "print(torch.sum(y))"
   ]
  },
  {
   "cell_type": "markdown",
   "metadata": {},
   "source": [
    "### Define Model"
   ]
  },
  {
   "cell_type": "code",
   "execution_count": null,
   "metadata": {},
   "outputs": [],
   "source": [
    "class Net(nn.Module):\n",
    "    def __init__(self):\n",
    "        super(Net, self).__init__()\n",
    "        self.conv1 = nn.Conv2d(3, 6, 7)\n",
    "        self.pool = nn.MaxPool2d(2, 2)\n",
    "        self.conv2 = nn.Conv2d(6, 5, 7)\n",
    "        self.fc1 = nn.Linear(5 * 51 * 51, 120)\n",
    "        self.fc2 = nn.Linear(120, 84)\n",
    "        self.fc3 = nn.Linear(84, 2)\n",
    "\n",
    "    def forward(self, x):\n",
    "        x = self.pool(F.relu(self.conv1(x)))\n",
    "        x = self.pool(F.relu(self.conv2(x)))\n",
    "        x = x.view(-1, 5 * 51 * 51)\n",
    "        x = F.relu(self.fc1(x))\n",
    "        x = F.relu(self.fc2(x))\n",
    "        x = self.fc3(x)\n",
    "        return x"
   ]
  },
  {
   "cell_type": "markdown",
   "metadata": {},
   "source": [
    "### Train Model"
   ]
  },
  {
   "cell_type": "code",
   "execution_count": null,
   "metadata": {
    "scrolled": true
   },
   "outputs": [],
   "source": [
    "# set up validation data\n",
    "test_data = FFDataset(train=False)\n",
    "X_test, y_test, g_test = test_data.get_data(100)\n",
    "\n",
    "# set up data and model then train\n",
    "data = FFDataset(train=True)\n",
    "model = Net()\n",
    "\n",
    "# monitor stuff\n",
    "metrics_dict = {\n",
    "    \"False Neg Rate\": metrics.false_neg_rate,\n",
    "    \"Demographic Parity\": metrics.Demographic_Parity,\n",
    "}\n",
    "\n",
    "groups = [\"White\", \"Black\", \"Indian\", \"East Asian\", \"Southeast Asian\", \"Middle East\", \"Latino\"]\n",
    "monitor = Monitor(model, metrics_dict, groups)\n",
    "\n",
    "# training stuff\n",
    "\n",
    "criterion = nn.CrossEntropyLoss()\n",
    "optimizer = optim.Adamax(model.parameters(), lr=0.002, betas=(0.9, 0.999), eps=1e-08, weight_decay=0)\n",
    "\n",
    "epochs = 1\n",
    "\n",
    "batch_size = 100\n",
    "train_losses, test_losses = [], []\n",
    "\n",
    "print_batch_freq = 10\n",
    "batches_per_epoch = int(data.get_n_lines() / batch_size) + 1\n",
    "\n",
    "print(40 * \"=\" + \"BEGIN TRAINING\" + 40 * \"=\")\n",
    "\n",
    "running_loss, last_epoch, cur_batch = (0, 0, 0)\n",
    "last_epoch = 0\n",
    "while data.get_n_epochs() < epochs:\n",
    "    if data.get_n_epochs() > last_epoch:\n",
    "        cur_batch = 1\n",
    "        running_loss = 0\n",
    "    else:\n",
    "        cur_batch += 1\n",
    "    \n",
    "    X, y, g = data.get_data(batch_size)\n",
    "\n",
    "    optimizer.zero_grad()\n",
    "\n",
    "    y_ = model(X)\n",
    "    loss = criterion(y_, y)\n",
    "    loss.backward()\n",
    "    optimizer.step()\n",
    "    \n",
    "    train_losses.append(loss.item())\n",
    "    running_loss += loss.item()\n",
    "    \n",
    "    if len(train_losses) % print_batch_freq == print_batch_freq - 1:\n",
    "        model.eval()\n",
    "        monitor.update_fig(len(train_losses), X_test.detach(), g_test, y_test.detach())\n",
    "        accuracy = torch.mean((torch.argmax(model(X_test), axis=1) == y_test) * 1.)\n",
    "        \n",
    "        print(f\"|  [Epoch: {data.get_n_epochs() + 1}, Batch: {cur_batch + 1}/{batches_per_epoch}]\"\n",
    "              f\"\\tTrain loss: {running_loss/cur_batch:.3f}\\t|\"\n",
    "              f\"  Test accuracy: {accuracy:.3f}\\t|\")\n",
    "        model.train()\n",
    "        \n",
    "print(41 * \"=\" + \"END TRAINING\" + 41 * \"=\")\n",
    "\n",
    "plt.plot(train_losses, label='Training loss')\n",
    "plt.show()"
   ]
  },
  {
   "cell_type": "code",
   "execution_count": null,
   "metadata": {
    "scrolled": true
   },
   "outputs": [],
   "source": [
    "total, correct = (0, 0)\n",
    "while test_data.get_n_epochs() < 1:\n",
    "    X_test, y_test, g_test = test_data.get_data(100)\n",
    "    total += 100\n",
    "    correct += torch.sum((torch.argmax(model(X_test), axis=1) == y_test) * 1.)\n",
    "print((correct / total).item())"
   ]
  },
  {
   "cell_type": "markdown",
   "metadata": {},
   "source": [
    "# FairTorch Metrics Examples"
   ]
  },
  {
   "cell_type": "code",
   "execution_count": null,
   "metadata": {},
   "outputs": [],
   "source": [
    "X, y, group = test_data.get_data(500)\n",
    "y_ = torch.argmax(model(X), axis=-1)\n",
    "\n",
    "print(\"True Positives:\", metrics.true_pos(y_.detach().view(-1), y.detach().view(-1), group))\n",
    "print(\"\\nFalse Positive Rate:\", metrics.false_pos_rate(y_.detach().view(-1), y.detach().view(-1), group))\n",
    "print(\"\\nDemographic Parity:\", metrics.Demographic_Parity(y_.detach().view(-1), y.detach().view(-1), group, \"White\"))"
   ]
  },
  {
   "cell_type": "code",
   "execution_count": null,
   "metadata": {},
   "outputs": [],
   "source": []
  }
 ],
 "metadata": {
  "kernelspec": {
   "display_name": "Python 3",
   "language": "python",
   "name": "python3"
  },
  "language_info": {
   "codemirror_mode": {
    "name": "ipython",
    "version": 3
   },
   "file_extension": ".py",
   "mimetype": "text/x-python",
   "name": "python",
   "nbconvert_exporter": "python",
   "pygments_lexer": "ipython3",
   "version": "3.7.7"
  }
 },
 "nbformat": 4,
 "nbformat_minor": 2
}
